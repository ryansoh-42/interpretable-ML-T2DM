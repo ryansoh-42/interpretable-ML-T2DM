{
 "cells": [
  {
   "cell_type": "markdown",
   "id": "2228065b",
   "metadata": {},
   "source": [
    "## Data pre-processing"
   ]
  },
  {
   "cell_type": "code",
   "execution_count": 1,
   "id": "9a4fa4f4",
   "metadata": {},
   "outputs": [],
   "source": [
    "# Import necessary libraries\n",
    "import pandas as pd\n",
    "import numpy as np"
   ]
  },
  {
   "cell_type": "code",
   "execution_count": 2,
   "id": "38dde2db",
   "metadata": {},
   "outputs": [],
   "source": [
    "df = pd.read_csv(\"../data/interim/nhanes_data_interim.csv\")"
   ]
  },
  {
   "cell_type": "markdown",
   "id": "f350c192",
   "metadata": {},
   "source": [
    "### Convert categorical variables represented by float to int"
   ]
  },
  {
   "cell_type": "code",
   "execution_count": 3,
   "id": "e65ebf8a",
   "metadata": {},
   "outputs": [],
   "source": [
    "df[\"diabetes\"] = df[\"diabetes\"].astype(int)\n",
    "df[\"current_smoking_freq\"] = df[\"current_smoking_freq\"].astype(int)"
   ]
  },
  {
   "cell_type": "markdown",
   "id": "68faa284",
   "metadata": {},
   "source": [
    "### Transform highly-skewed features"
   ]
  },
  {
   "cell_type": "code",
   "execution_count": 4,
   "id": "1f0724fa",
   "metadata": {},
   "outputs": [],
   "source": [
    "# Log transformation on right-skewed features\n",
    "cols_to_transform = [\"hba1c_percentage\", \"fpg_mmol_L\", \"hdl_mmol_L\"]\n",
    "\n",
    "for col in cols_to_transform:\n",
    "    df[col + \"_log\"] = np.log(df[col])\n",
    "\n",
    "# Drop original columns\n",
    "df = df.drop(cols_to_transform, axis=1)"
   ]
  },
  {
   "cell_type": "markdown",
   "id": "66cd8f7c",
   "metadata": {},
   "source": [
    "### Identify outliers"
   ]
  },
  {
   "cell_type": "code",
   "execution_count": 5,
   "id": "ca897c59",
   "metadata": {},
   "outputs": [],
   "source": [
    "def three_sd_range(series):\n",
    "    mean = series.mean()\n",
    "    sd = series.std()\n",
    "    lower_bound = mean - 3 * sd\n",
    "    upper_bound = mean + 3 * sd\n",
    "    \n",
    "    return (lower_bound, upper_bound)"
   ]
  },
  {
   "cell_type": "code",
   "execution_count": 6,
   "id": "cb6c3979",
   "metadata": {},
   "outputs": [
    {
     "name": "stdout",
     "output_type": "stream",
     "text": [
      "bmi has at least one outlier: True\n",
      "11 row has been removed\n",
      "\n",
      "age has at least one outlier: False\n",
      "\n",
      "hba1c_percentage_log has at least one outlier: True\n",
      "31 row has been removed\n",
      "\n",
      "fpg_mmol_L_log has at least one outlier: True\n",
      "27 row has been removed\n",
      "\n",
      "hdl_mmol_L_log has at least one outlier: True\n",
      "6 row has been removed\n",
      "\n"
     ]
    }
   ],
   "source": [
    "for col_name in [\"bmi\", \"age\", \"hba1c_percentage_log\", \"fpg_mmol_L_log\", \"hdl_mmol_L_log\"]:\n",
    "    lower_bound, upper_bound = three_sd_range(df[col_name])\n",
    "    outlier_present = (df[col_name].min() < lower_bound or df[col_name].max() > upper_bound)\n",
    "    print(f\"{col_name} has at least one outlier: {outlier_present}\")\n",
    "    \n",
    "    if outlier_present:\n",
    "        curr_length = df[col_name].count()\n",
    "        df = df[(df[col_name] >= lower_bound) & (df[col_name] <= upper_bound)]\n",
    "        new_length = df[col_name].count()\n",
    "        print(f\"{curr_length - new_length} row has been removed\")\n",
    "    \n",
    "    print()"
   ]
  },
  {
   "cell_type": "markdown",
   "id": "cbc27599",
   "metadata": {},
   "source": [
    "### Removing features that provide no predictive information"
   ]
  },
  {
   "cell_type": "code",
   "execution_count": 7,
   "id": "d35afbc9",
   "metadata": {},
   "outputs": [
    {
     "name": "stdout",
     "output_type": "stream",
     "text": [
      "1 column(s) has been removed\n"
     ]
    }
   ],
   "source": [
    "col_one_uniq = []\n",
    "for col in df.columns:\n",
    "    if df[col].nunique() <= 1:\n",
    "        col_one_uniq.append(col)\n",
    "        \n",
    "df = df.drop(col_one_uniq, axis=1)\n",
    "print(f\"{len(col_one_uniq)} column(s) has been removed\")"
   ]
  },
  {
   "cell_type": "markdown",
   "id": "1f19aa31",
   "metadata": {},
   "source": [
    "## Feature Engineering"
   ]
  },
  {
   "cell_type": "code",
   "execution_count": 8,
   "id": "bba78858",
   "metadata": {},
   "outputs": [],
   "source": [
    "# df[\"bmi_age_interaction\"] = df[\"bmi\"] * df[\"age\"] / 100\n",
    "# df[\"glucose_hba1c_interaction\"] = df[\"fpg_mmol_L_log\"] * df[\"hba1c_percentage_log\"]\n",
    "# df[\"bp_age_interaction\"] = df[\"high_blood_pressure\"] * df[\"age\"]"
   ]
  },
  {
   "cell_type": "code",
   "execution_count": 9,
   "id": "f000f014",
   "metadata": {},
   "outputs": [],
   "source": [
    "# df.info()"
   ]
  },
  {
   "cell_type": "markdown",
   "id": "b3071959",
   "metadata": {},
   "source": [
    "## Label encoding"
   ]
  },
  {
   "cell_type": "code",
   "execution_count": 10,
   "id": "f7a159a6",
   "metadata": {},
   "outputs": [],
   "source": [
    "# Encode target variable\n",
    "from sklearn.preprocessing import LabelEncoder\n",
    "\n",
    "label_encoder = LabelEncoder()\n",
    "df[\"diabetes\"] = label_encoder.fit_transform(df[\"diabetes\"])"
   ]
  },
  {
   "cell_type": "code",
   "execution_count": 11,
   "id": "5b83c0d3",
   "metadata": {},
   "outputs": [
    {
     "data": {
      "text/html": [
       "<div>\n",
       "<style scoped>\n",
       "    .dataframe tbody tr th:only-of-type {\n",
       "        vertical-align: middle;\n",
       "    }\n",
       "\n",
       "    .dataframe tbody tr th {\n",
       "        vertical-align: top;\n",
       "    }\n",
       "\n",
       "    .dataframe thead th {\n",
       "        text-align: right;\n",
       "    }\n",
       "</style>\n",
       "<table border=\"1\" class=\"dataframe\">\n",
       "  <thead>\n",
       "    <tr style=\"text-align: right;\">\n",
       "      <th></th>\n",
       "      <th>bmi</th>\n",
       "      <th>high_blood_pressure</th>\n",
       "      <th>gender</th>\n",
       "      <th>age</th>\n",
       "      <th>diabetes</th>\n",
       "      <th>current_smoking_freq</th>\n",
       "      <th>hba1c_percentage_log</th>\n",
       "      <th>fpg_mmol_L_log</th>\n",
       "      <th>hdl_mmol_L_log</th>\n",
       "    </tr>\n",
       "  </thead>\n",
       "  <tbody>\n",
       "    <tr>\n",
       "      <th>634</th>\n",
       "      <td>23.3</td>\n",
       "      <td>1</td>\n",
       "      <td>1</td>\n",
       "      <td>58</td>\n",
       "      <td>1</td>\n",
       "      <td>3</td>\n",
       "      <td>1.648659</td>\n",
       "      <td>1.640937</td>\n",
       "      <td>0.254642</td>\n",
       "    </tr>\n",
       "    <tr>\n",
       "      <th>864</th>\n",
       "      <td>29.3</td>\n",
       "      <td>0</td>\n",
       "      <td>0</td>\n",
       "      <td>51</td>\n",
       "      <td>1</td>\n",
       "      <td>3</td>\n",
       "      <td>1.629241</td>\n",
       "      <td>1.713798</td>\n",
       "      <td>0.336472</td>\n",
       "    </tr>\n",
       "    <tr>\n",
       "      <th>543</th>\n",
       "      <td>37.2</td>\n",
       "      <td>0</td>\n",
       "      <td>0</td>\n",
       "      <td>53</td>\n",
       "      <td>1</td>\n",
       "      <td>1</td>\n",
       "      <td>2.091864</td>\n",
       "      <td>2.057963</td>\n",
       "      <td>0.239017</td>\n",
       "    </tr>\n",
       "    <tr>\n",
       "      <th>184</th>\n",
       "      <td>24.4</td>\n",
       "      <td>1</td>\n",
       "      <td>1</td>\n",
       "      <td>66</td>\n",
       "      <td>2</td>\n",
       "      <td>3</td>\n",
       "      <td>1.931521</td>\n",
       "      <td>1.896119</td>\n",
       "      <td>0.058269</td>\n",
       "    </tr>\n",
       "    <tr>\n",
       "      <th>398</th>\n",
       "      <td>30.7</td>\n",
       "      <td>0</td>\n",
       "      <td>0</td>\n",
       "      <td>29</td>\n",
       "      <td>1</td>\n",
       "      <td>3</td>\n",
       "      <td>1.609438</td>\n",
       "      <td>1.652497</td>\n",
       "      <td>0.173953</td>\n",
       "    </tr>\n",
       "  </tbody>\n",
       "</table>\n",
       "</div>"
      ],
      "text/plain": [
       "      bmi  high_blood_pressure  gender  age  diabetes  current_smoking_freq  \\\n",
       "634  23.3                    1       1   58         1                     3   \n",
       "864  29.3                    0       0   51         1                     3   \n",
       "543  37.2                    0       0   53         1                     1   \n",
       "184  24.4                    1       1   66         2                     3   \n",
       "398  30.7                    0       0   29         1                     3   \n",
       "\n",
       "     hba1c_percentage_log  fpg_mmol_L_log  hdl_mmol_L_log  \n",
       "634              1.648659        1.640937        0.254642  \n",
       "864              1.629241        1.713798        0.336472  \n",
       "543              2.091864        2.057963        0.239017  \n",
       "184              1.931521        1.896119        0.058269  \n",
       "398              1.609438        1.652497        0.173953  "
      ]
     },
     "execution_count": 11,
     "metadata": {},
     "output_type": "execute_result"
    }
   ],
   "source": [
    "# Resultant DataFrame after label encoding\n",
    "df.sample(5)"
   ]
  },
  {
   "cell_type": "code",
   "execution_count": 12,
   "id": "29fdaf43",
   "metadata": {},
   "outputs": [
    {
     "data": {
      "text/plain": [
       "diabetes\n",
       "1    928\n",
       "0    155\n",
       "2     51\n",
       "Name: count, dtype: int64"
      ]
     },
     "execution_count": 12,
     "metadata": {},
     "output_type": "execute_result"
    }
   ],
   "source": [
    "df[\"diabetes\"].value_counts()"
   ]
  },
  {
   "cell_type": "code",
   "execution_count": 13,
   "id": "c4ce4c70",
   "metadata": {},
   "outputs": [],
   "source": [
    "# Save the pre-processed DataFrame to a new CSV file\n",
    "df.to_csv(\"../data/processed/nhanes_data_processed_label_encoded.csv\", index=False)"
   ]
  },
  {
   "cell_type": "markdown",
   "id": "cedd74e4",
   "metadata": {},
   "source": [
    "## Categorical encoding"
   ]
  },
  {
   "cell_type": "code",
   "execution_count": 14,
   "id": "869b0c78",
   "metadata": {},
   "outputs": [],
   "source": [
    "# Map multiclass values to more readable strings to prepare for one-hot encoding\n",
    "df[\"diabetes\"] = df[\"diabetes\"].map({0: \"yes\", 1: \"no\", 2: \"borderline\"})\n",
    "df[\"current_smoking_freq\"] = df[\"current_smoking_freq\"].map({1: \"every_day\", 2: \"some_days\", 3: \"none\"})"
   ]
  },
  {
   "cell_type": "code",
   "execution_count": 15,
   "id": "c4a1aa26",
   "metadata": {},
   "outputs": [],
   "source": [
    "# One-hot encode the multiclass columns \"diabetes\" and \"current_smoking_frequency\"\n",
    "from sklearn.preprocessing import OneHotEncoder\n",
    "\n",
    "encoder = OneHotEncoder(sparse_output=False, dtype=int)\n",
    "one_hot_encoded = encoder.fit_transform(df[[\"diabetes\", \"current_smoking_freq\"]])\n",
    "\n",
    "encoded_df = pd.DataFrame(one_hot_encoded, columns=encoder.get_feature_names_out([\"diabetes\", \"current_smoking_freq\"]))\n",
    "\n",
    "# Concatenate the original DataFrame with the one-hot encoded DataFrame\n",
    "df = pd.concat([df, encoded_df], axis=1)\n",
    "\n",
    "# Drop the original multiclass columns after encoding\n",
    "df = df.drop(columns=[\"diabetes\", \"current_smoking_freq\"], axis=1)"
   ]
  },
  {
   "cell_type": "code",
   "execution_count": 16,
   "id": "47467606",
   "metadata": {},
   "outputs": [
    {
     "data": {
      "text/html": [
       "<div>\n",
       "<style scoped>\n",
       "    .dataframe tbody tr th:only-of-type {\n",
       "        vertical-align: middle;\n",
       "    }\n",
       "\n",
       "    .dataframe tbody tr th {\n",
       "        vertical-align: top;\n",
       "    }\n",
       "\n",
       "    .dataframe thead th {\n",
       "        text-align: right;\n",
       "    }\n",
       "</style>\n",
       "<table border=\"1\" class=\"dataframe\">\n",
       "  <thead>\n",
       "    <tr style=\"text-align: right;\">\n",
       "      <th></th>\n",
       "      <th>bmi</th>\n",
       "      <th>high_blood_pressure</th>\n",
       "      <th>gender</th>\n",
       "      <th>age</th>\n",
       "      <th>hba1c_percentage_log</th>\n",
       "      <th>fpg_mmol_L_log</th>\n",
       "      <th>hdl_mmol_L_log</th>\n",
       "      <th>diabetes_borderline</th>\n",
       "      <th>diabetes_no</th>\n",
       "      <th>diabetes_yes</th>\n",
       "      <th>current_smoking_freq_every_day</th>\n",
       "      <th>current_smoking_freq_none</th>\n",
       "      <th>current_smoking_freq_some_days</th>\n",
       "    </tr>\n",
       "  </thead>\n",
       "  <tbody>\n",
       "    <tr>\n",
       "      <th>464</th>\n",
       "      <td>27.2</td>\n",
       "      <td>0.0</td>\n",
       "      <td>1.0</td>\n",
       "      <td>47.0</td>\n",
       "      <td>1.629241</td>\n",
       "      <td>1.704748</td>\n",
       "      <td>0.029559</td>\n",
       "      <td>0.0</td>\n",
       "      <td>0.0</td>\n",
       "      <td>1.0</td>\n",
       "      <td>1.0</td>\n",
       "      <td>0.0</td>\n",
       "      <td>0.0</td>\n",
       "    </tr>\n",
       "    <tr>\n",
       "      <th>531</th>\n",
       "      <td>26.6</td>\n",
       "      <td>1.0</td>\n",
       "      <td>0.0</td>\n",
       "      <td>65.0</td>\n",
       "      <td>1.757858</td>\n",
       "      <td>1.662030</td>\n",
       "      <td>0.703098</td>\n",
       "      <td>0.0</td>\n",
       "      <td>1.0</td>\n",
       "      <td>0.0</td>\n",
       "      <td>1.0</td>\n",
       "      <td>0.0</td>\n",
       "      <td>0.0</td>\n",
       "    </tr>\n",
       "    <tr>\n",
       "      <th>967</th>\n",
       "      <td>38.6</td>\n",
       "      <td>0.0</td>\n",
       "      <td>1.0</td>\n",
       "      <td>51.0</td>\n",
       "      <td>1.686399</td>\n",
       "      <td>1.791759</td>\n",
       "      <td>0.058269</td>\n",
       "      <td>0.0</td>\n",
       "      <td>1.0</td>\n",
       "      <td>0.0</td>\n",
       "      <td>0.0</td>\n",
       "      <td>1.0</td>\n",
       "      <td>0.0</td>\n",
       "    </tr>\n",
       "    <tr>\n",
       "      <th>795</th>\n",
       "      <td>30.2</td>\n",
       "      <td>1.0</td>\n",
       "      <td>1.0</td>\n",
       "      <td>59.0</td>\n",
       "      <td>1.648659</td>\n",
       "      <td>1.693779</td>\n",
       "      <td>0.371564</td>\n",
       "      <td>0.0</td>\n",
       "      <td>1.0</td>\n",
       "      <td>0.0</td>\n",
       "      <td>0.0</td>\n",
       "      <td>1.0</td>\n",
       "      <td>0.0</td>\n",
       "    </tr>\n",
       "    <tr>\n",
       "      <th>1208</th>\n",
       "      <td>27.9</td>\n",
       "      <td>0.0</td>\n",
       "      <td>0.0</td>\n",
       "      <td>69.0</td>\n",
       "      <td>2.091864</td>\n",
       "      <td>2.183802</td>\n",
       "      <td>-0.127833</td>\n",
       "      <td>NaN</td>\n",
       "      <td>NaN</td>\n",
       "      <td>NaN</td>\n",
       "      <td>NaN</td>\n",
       "      <td>NaN</td>\n",
       "      <td>NaN</td>\n",
       "    </tr>\n",
       "  </tbody>\n",
       "</table>\n",
       "</div>"
      ],
      "text/plain": [
       "       bmi  high_blood_pressure  gender   age  hba1c_percentage_log  \\\n",
       "464   27.2                  0.0     1.0  47.0              1.629241   \n",
       "531   26.6                  1.0     0.0  65.0              1.757858   \n",
       "967   38.6                  0.0     1.0  51.0              1.686399   \n",
       "795   30.2                  1.0     1.0  59.0              1.648659   \n",
       "1208  27.9                  0.0     0.0  69.0              2.091864   \n",
       "\n",
       "      fpg_mmol_L_log  hdl_mmol_L_log  diabetes_borderline  diabetes_no  \\\n",
       "464         1.704748        0.029559                  0.0          0.0   \n",
       "531         1.662030        0.703098                  0.0          1.0   \n",
       "967         1.791759        0.058269                  0.0          1.0   \n",
       "795         1.693779        0.371564                  0.0          1.0   \n",
       "1208        2.183802       -0.127833                  NaN          NaN   \n",
       "\n",
       "      diabetes_yes  current_smoking_freq_every_day  current_smoking_freq_none  \\\n",
       "464            1.0                             1.0                        0.0   \n",
       "531            0.0                             1.0                        0.0   \n",
       "967            0.0                             0.0                        1.0   \n",
       "795            0.0                             0.0                        1.0   \n",
       "1208           NaN                             NaN                        NaN   \n",
       "\n",
       "      current_smoking_freq_some_days  \n",
       "464                              0.0  \n",
       "531                              0.0  \n",
       "967                              0.0  \n",
       "795                              0.0  \n",
       "1208                             NaN  "
      ]
     },
     "execution_count": 16,
     "metadata": {},
     "output_type": "execute_result"
    }
   ],
   "source": [
    "# Resultant DataFrame after one-hot encoding\n",
    "df.sample(5)"
   ]
  },
  {
   "cell_type": "code",
   "execution_count": 17,
   "id": "4b1a5df9",
   "metadata": {},
   "outputs": [],
   "source": [
    "# Save the one-hot encoded pre-processed DataFrame to a new CSV file\n",
    "df.to_csv(\"../data/processed/nhanes_data_processed_one_hot_encoded.csv\", index=False)"
   ]
  }
 ],
 "metadata": {
  "kernelspec": {
   "display_name": "base",
   "language": "python",
   "name": "python3"
  },
  "language_info": {
   "codemirror_mode": {
    "name": "ipython",
    "version": 3
   },
   "file_extension": ".py",
   "mimetype": "text/x-python",
   "name": "python",
   "nbconvert_exporter": "python",
   "pygments_lexer": "ipython3",
   "version": "3.12.3"
  }
 },
 "nbformat": 4,
 "nbformat_minor": 5
}
