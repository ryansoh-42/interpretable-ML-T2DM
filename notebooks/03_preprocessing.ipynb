{
 "cells": [
  {
   "cell_type": "markdown",
   "id": "2228065b",
   "metadata": {},
   "source": [
    "## Data pre-processing"
   ]
  },
  {
   "cell_type": "code",
   "execution_count": 25,
   "id": "9a4fa4f4",
   "metadata": {},
   "outputs": [],
   "source": [
    "# Import necessary libraries\n",
    "import pandas as pd\n",
    "import numpy as np"
   ]
  },
  {
   "cell_type": "code",
   "execution_count": 26,
   "id": "38dde2db",
   "metadata": {},
   "outputs": [],
   "source": [
    "df = pd.read_csv(\"../data/interim/nhanes_data_interim.csv\")"
   ]
  },
  {
   "cell_type": "markdown",
   "id": "f350c192",
   "metadata": {},
   "source": [
    "### Convert categorical variables represented by float to int"
   ]
  },
  {
   "cell_type": "code",
   "execution_count": 27,
   "id": "e65ebf8a",
   "metadata": {},
   "outputs": [],
   "source": [
    "df[\"diabetes\"] = df[\"diabetes\"].astype(int)\n",
    "df[\"current_smoking_freq\"] = df[\"current_smoking_freq\"].astype(int)"
   ]
  },
  {
   "cell_type": "markdown",
   "id": "68faa284",
   "metadata": {},
   "source": [
    "### Transform highly-skewed features"
   ]
  },
  {
   "cell_type": "code",
   "execution_count": 28,
   "id": "1f0724fa",
   "metadata": {},
   "outputs": [],
   "source": [
    "# Log transformation on right-skewed features\n",
    "\n",
    "cols_to_transform = [\"hba1c_percentage\", \"fpg_mmol_L\", \"hdl_mmol_L\"]\n",
    "\n",
    "for col in cols_to_transform:\n",
    "    df[col + \"_log\"] = np.log(df[col])\n",
    "\n",
    "# Drop original columns\n",
    "\n",
    "df = df.drop(cols_to_transform, axis=1)"
   ]
  },
  {
   "cell_type": "markdown",
   "id": "66cd8f7c",
   "metadata": {},
   "source": [
    "### Identify outliers"
   ]
  },
  {
   "cell_type": "code",
   "execution_count": 29,
   "id": "ca897c59",
   "metadata": {},
   "outputs": [],
   "source": [
    "def three_sd_range(series):\n",
    "    mean = series.mean()\n",
    "    sd = series.std()\n",
    "    lower_bound = mean - 3 * sd\n",
    "    upper_bound = mean + 3 * sd\n",
    "    \n",
    "    return (lower_bound, upper_bound)"
   ]
  },
  {
   "cell_type": "code",
   "execution_count": 30,
   "id": "cb6c3979",
   "metadata": {},
   "outputs": [
    {
     "name": "stdout",
     "output_type": "stream",
     "text": [
      "bmi has at least one outlier: True\n",
      "11 row has been removed\n",
      "\n",
      "age has at least one outlier: False\n",
      "\n",
      "hba1c_percentage_log has at least one outlier: True\n",
      "31 row has been removed\n",
      "\n",
      "fpg_mmol_L_log has at least one outlier: True\n",
      "27 row has been removed\n",
      "\n",
      "hdl_mmol_L_log has at least one outlier: True\n",
      "6 row has been removed\n",
      "\n"
     ]
    }
   ],
   "source": [
    "for col_name in [\"bmi\", \"age\", \"hba1c_percentage_log\", \"fpg_mmol_L_log\", \"hdl_mmol_L_log\"]:\n",
    "    lower_bound, upper_bound = three_sd_range(df[col_name])\n",
    "    outlier_present = (df[col_name].min() < lower_bound or df[col_name].max() > upper_bound)\n",
    "    print(f\"{col_name} has at least one outlier: {outlier_present}\")\n",
    "    \n",
    "    if outlier_present:\n",
    "        curr_length = df[col_name].count()\n",
    "        df = df[(df[col_name] >= lower_bound) & (df[col_name] <= upper_bound)]\n",
    "        new_length = df[col_name].count()\n",
    "        print(f\"{curr_length - new_length} row has been removed\")\n",
    "    \n",
    "    print()"
   ]
  },
  {
   "cell_type": "code",
   "execution_count": 31,
   "id": "f000f014",
   "metadata": {},
   "outputs": [
    {
     "name": "stdout",
     "output_type": "stream",
     "text": [
      "<class 'pandas.core.frame.DataFrame'>\n",
      "Index: 1134 entries, 0 to 1208\n",
      "Data columns (total 10 columns):\n",
      " #   Column                    Non-Null Count  Dtype  \n",
      "---  ------                    --------------  -----  \n",
      " 0   bmi                       1134 non-null   float64\n",
      " 1   high_blood_pressure       1134 non-null   int64  \n",
      " 2   gender                    1134 non-null   int64  \n",
      " 3   age                       1134 non-null   int64  \n",
      " 4   diabetes                  1134 non-null   int32  \n",
      " 5   lifetime_100_cigs_smoked  1134 non-null   int64  \n",
      " 6   current_smoking_freq      1134 non-null   int32  \n",
      " 7   hba1c_percentage_log      1134 non-null   float64\n",
      " 8   fpg_mmol_L_log            1134 non-null   float64\n",
      " 9   hdl_mmol_L_log            1134 non-null   float64\n",
      "dtypes: float64(4), int32(2), int64(4)\n",
      "memory usage: 88.6 KB\n"
     ]
    }
   ],
   "source": [
    "df.info()"
   ]
  },
  {
   "cell_type": "code",
   "execution_count": 32,
   "id": "b63f9a74",
   "metadata": {},
   "outputs": [],
   "source": [
    "# Save the pre-processed DataFrame to a new CSV file\n",
    "df.to_csv(\"../data/processed/nhanes_data_processed.csv\", index=False)"
   ]
  },
  {
   "cell_type": "markdown",
   "id": "213b4efa",
   "metadata": {},
   "source": [
    "### Categorical encoding"
   ]
  },
  {
   "cell_type": "code",
   "execution_count": 33,
   "id": "869b0c78",
   "metadata": {},
   "outputs": [],
   "source": [
    "# Map multiclass values to more readable strings to prepare for one-hot encoding\n",
    "df[\"diabetes\"] = df[\"diabetes\"].map({1: \"yes\", 2: \"no\", 3: \"borderline\"})\n",
    "df[\"current_smoking_freq\"] = df[\"current_smoking_freq\"].map({1: \"every_day\", 2: \"some_days\", 3: \"none\"})"
   ]
  },
  {
   "cell_type": "code",
   "execution_count": 34,
   "id": "c4a1aa26",
   "metadata": {},
   "outputs": [],
   "source": [
    "# One-hot encode the multiclass columns \"diabetes\" and \"current_smoking_frequency\"\n",
    "from sklearn.preprocessing import OneHotEncoder\n",
    "\n",
    "encoder = OneHotEncoder(sparse_output=False, dtype=int)\n",
    "one_hot_encoded = encoder.fit_transform(df[[\"diabetes\", \"current_smoking_freq\"]])\n",
    "\n",
    "encoded_df = pd.DataFrame(one_hot_encoded, columns=encoder.get_feature_names_out([\"diabetes\", \"current_smoking_freq\"]))\n",
    "\n",
    "# Concatenate the original DataFrame with the one-hot encoded DataFrame\n",
    "df = pd.concat([df, encoded_df], axis=1)\n",
    "\n",
    "# Drop the original multiclass columns after encoding\n",
    "df = df.drop(columns=[\"diabetes\", \"current_smoking_freq\"], axis=1)"
   ]
  },
  {
   "cell_type": "code",
   "execution_count": 35,
   "id": "47467606",
   "metadata": {},
   "outputs": [
    {
     "data": {
      "text/html": [
       "<div>\n",
       "<style scoped>\n",
       "    .dataframe tbody tr th:only-of-type {\n",
       "        vertical-align: middle;\n",
       "    }\n",
       "\n",
       "    .dataframe tbody tr th {\n",
       "        vertical-align: top;\n",
       "    }\n",
       "\n",
       "    .dataframe thead th {\n",
       "        text-align: right;\n",
       "    }\n",
       "</style>\n",
       "<table border=\"1\" class=\"dataframe\">\n",
       "  <thead>\n",
       "    <tr style=\"text-align: right;\">\n",
       "      <th></th>\n",
       "      <th>bmi</th>\n",
       "      <th>high_blood_pressure</th>\n",
       "      <th>gender</th>\n",
       "      <th>age</th>\n",
       "      <th>lifetime_100_cigs_smoked</th>\n",
       "      <th>hba1c_percentage_log</th>\n",
       "      <th>fpg_mmol_L_log</th>\n",
       "      <th>hdl_mmol_L_log</th>\n",
       "      <th>diabetes_borderline</th>\n",
       "      <th>diabetes_no</th>\n",
       "      <th>diabetes_yes</th>\n",
       "      <th>current_smoking_freq_every_day</th>\n",
       "      <th>current_smoking_freq_none</th>\n",
       "      <th>current_smoking_freq_some_days</th>\n",
       "    </tr>\n",
       "  </thead>\n",
       "  <tbody>\n",
       "    <tr>\n",
       "      <th>532</th>\n",
       "      <td>31.2</td>\n",
       "      <td>0.0</td>\n",
       "      <td>1.0</td>\n",
       "      <td>78.0</td>\n",
       "      <td>1.0</td>\n",
       "      <td>1.774952</td>\n",
       "      <td>1.791759</td>\n",
       "      <td>-0.072571</td>\n",
       "      <td>0.0</td>\n",
       "      <td>1.0</td>\n",
       "      <td>0.0</td>\n",
       "      <td>1.0</td>\n",
       "      <td>0.0</td>\n",
       "      <td>0.0</td>\n",
       "    </tr>\n",
       "    <tr>\n",
       "      <th>322</th>\n",
       "      <td>26.4</td>\n",
       "      <td>0.0</td>\n",
       "      <td>1.0</td>\n",
       "      <td>40.0</td>\n",
       "      <td>1.0</td>\n",
       "      <td>1.667707</td>\n",
       "      <td>1.724551</td>\n",
       "      <td>0.405465</td>\n",
       "      <td>0.0</td>\n",
       "      <td>1.0</td>\n",
       "      <td>0.0</td>\n",
       "      <td>1.0</td>\n",
       "      <td>0.0</td>\n",
       "      <td>0.0</td>\n",
       "    </tr>\n",
       "    <tr>\n",
       "      <th>662</th>\n",
       "      <td>22.8</td>\n",
       "      <td>1.0</td>\n",
       "      <td>0.0</td>\n",
       "      <td>42.0</td>\n",
       "      <td>1.0</td>\n",
       "      <td>1.722767</td>\n",
       "      <td>1.490654</td>\n",
       "      <td>0.727549</td>\n",
       "      <td>0.0</td>\n",
       "      <td>1.0</td>\n",
       "      <td>0.0</td>\n",
       "      <td>0.0</td>\n",
       "      <td>1.0</td>\n",
       "      <td>0.0</td>\n",
       "    </tr>\n",
       "    <tr>\n",
       "      <th>769</th>\n",
       "      <td>24.2</td>\n",
       "      <td>0.0</td>\n",
       "      <td>1.0</td>\n",
       "      <td>55.0</td>\n",
       "      <td>1.0</td>\n",
       "      <td>1.410987</td>\n",
       "      <td>1.724551</td>\n",
       "      <td>0.239017</td>\n",
       "      <td>0.0</td>\n",
       "      <td>1.0</td>\n",
       "      <td>0.0</td>\n",
       "      <td>0.0</td>\n",
       "      <td>1.0</td>\n",
       "      <td>0.0</td>\n",
       "    </tr>\n",
       "    <tr>\n",
       "      <th>129</th>\n",
       "      <td>23.4</td>\n",
       "      <td>1.0</td>\n",
       "      <td>1.0</td>\n",
       "      <td>72.0</td>\n",
       "      <td>1.0</td>\n",
       "      <td>1.722767</td>\n",
       "      <td>1.733424</td>\n",
       "      <td>0.371564</td>\n",
       "      <td>0.0</td>\n",
       "      <td>1.0</td>\n",
       "      <td>0.0</td>\n",
       "      <td>0.0</td>\n",
       "      <td>1.0</td>\n",
       "      <td>0.0</td>\n",
       "    </tr>\n",
       "  </tbody>\n",
       "</table>\n",
       "</div>"
      ],
      "text/plain": [
       "      bmi  high_blood_pressure  gender   age  lifetime_100_cigs_smoked  \\\n",
       "532  31.2                  0.0     1.0  78.0                       1.0   \n",
       "322  26.4                  0.0     1.0  40.0                       1.0   \n",
       "662  22.8                  1.0     0.0  42.0                       1.0   \n",
       "769  24.2                  0.0     1.0  55.0                       1.0   \n",
       "129  23.4                  1.0     1.0  72.0                       1.0   \n",
       "\n",
       "     hba1c_percentage_log  fpg_mmol_L_log  hdl_mmol_L_log  \\\n",
       "532              1.774952        1.791759       -0.072571   \n",
       "322              1.667707        1.724551        0.405465   \n",
       "662              1.722767        1.490654        0.727549   \n",
       "769              1.410987        1.724551        0.239017   \n",
       "129              1.722767        1.733424        0.371564   \n",
       "\n",
       "     diabetes_borderline  diabetes_no  diabetes_yes  \\\n",
       "532                  0.0          1.0           0.0   \n",
       "322                  0.0          1.0           0.0   \n",
       "662                  0.0          1.0           0.0   \n",
       "769                  0.0          1.0           0.0   \n",
       "129                  0.0          1.0           0.0   \n",
       "\n",
       "     current_smoking_freq_every_day  current_smoking_freq_none  \\\n",
       "532                             1.0                        0.0   \n",
       "322                             1.0                        0.0   \n",
       "662                             0.0                        1.0   \n",
       "769                             0.0                        1.0   \n",
       "129                             0.0                        1.0   \n",
       "\n",
       "     current_smoking_freq_some_days  \n",
       "532                             0.0  \n",
       "322                             0.0  \n",
       "662                             0.0  \n",
       "769                             0.0  \n",
       "129                             0.0  "
      ]
     },
     "execution_count": 35,
     "metadata": {},
     "output_type": "execute_result"
    }
   ],
   "source": [
    "# Resultant DataFrame after one-hot encoding\n",
    "df.sample(5)"
   ]
  },
  {
   "cell_type": "code",
   "execution_count": 36,
   "id": "4b1a5df9",
   "metadata": {},
   "outputs": [],
   "source": [
    "# Save the one-hot encoded pre-processed DataFrame to a new CSV file\n",
    "df.to_csv(\"../data/processed/nhanes_data_processed_one_hot.csv\", index=False)"
   ]
  }
 ],
 "metadata": {
  "kernelspec": {
   "display_name": "base",
   "language": "python",
   "name": "python3"
  },
  "language_info": {
   "codemirror_mode": {
    "name": "ipython",
    "version": 3
   },
   "file_extension": ".py",
   "mimetype": "text/x-python",
   "name": "python",
   "nbconvert_exporter": "python",
   "pygments_lexer": "ipython3",
   "version": "3.12.4"
  }
 },
 "nbformat": 4,
 "nbformat_minor": 5
}
