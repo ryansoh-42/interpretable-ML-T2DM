{
 "cells": [
  {
   "cell_type": "markdown",
   "id": "2228065b",
   "metadata": {},
   "source": [
    "## Data pre-processing"
   ]
  },
  {
   "cell_type": "code",
   "execution_count": 79,
   "id": "9a4fa4f4",
   "metadata": {},
   "outputs": [],
   "source": [
    "# Import necessary libraries\n",
    "import pandas as pd"
   ]
  },
  {
   "cell_type": "code",
   "execution_count": 80,
   "id": "38dde2db",
   "metadata": {},
   "outputs": [],
   "source": [
    "df = pd.read_csv(\"../data/interim/nhanes_data_interim.csv\")"
   ]
  },
  {
   "cell_type": "markdown",
   "id": "f350c192",
   "metadata": {},
   "source": [
    "### Convert categorical variables represented by float to int"
   ]
  },
  {
   "cell_type": "code",
   "execution_count": 81,
   "id": "e65ebf8a",
   "metadata": {},
   "outputs": [],
   "source": [
    "df[\"diabetes\"] = df[\"diabetes\"].astype(int)\n",
    "df[\"current_smoking_freq\"] = df[\"current_smoking_freq\"].astype(int)"
   ]
  },
  {
   "cell_type": "markdown",
   "id": "66cd8f7c",
   "metadata": {},
   "source": [
    "### Identify outliers"
   ]
  },
  {
   "cell_type": "code",
   "execution_count": 82,
   "id": "ca897c59",
   "metadata": {},
   "outputs": [],
   "source": [
    "def three_sd_range(series):\n",
    "    mean = series.mean()\n",
    "    sd = series.std()\n",
    "    lower_bound = mean - 3 * sd\n",
    "    upper_bound = mean + 3 * sd\n",
    "    \n",
    "    return (lower_bound, upper_bound)"
   ]
  },
  {
   "cell_type": "code",
   "execution_count": 83,
   "id": "cb6c3979",
   "metadata": {},
   "outputs": [
    {
     "name": "stdout",
     "output_type": "stream",
     "text": [
      "bmi has at least one outlier: True\n",
      "11 row has been removed\n",
      "\n",
      "age has at least one outlier: False\n",
      "\n",
      "hba1c_percentage has at least one outlier: True\n",
      "32 row has been removed\n",
      "\n",
      "fpg_mmol_L has at least one outlier: True\n",
      "30 row has been removed\n",
      "\n",
      "hdl_mmol_L has at least one outlier: True\n",
      "16 row has been removed\n",
      "\n"
     ]
    }
   ],
   "source": [
    "for col_name in [\"bmi\", \"age\", \"hba1c_percentage\", \"fpg_mmol_L\", \"hdl_mmol_L\"]:\n",
    "    lower_bound, upper_bound = three_sd_range(df[col_name])\n",
    "    outlier_present = (df[col_name].min() < lower_bound or df[col_name].max() > upper_bound)\n",
    "    print(f\"{col_name} has at least one outlier: {outlier_present}\")\n",
    "    \n",
    "    if outlier_present:\n",
    "        curr_length = df[col_name].count()\n",
    "        df = df[(df[col_name] >= lower_bound) & (df[col_name] <= upper_bound)]\n",
    "        new_length = df[col_name].count()\n",
    "        print(f\"{curr_length - new_length} row has been removed\")\n",
    "    \n",
    "    print()"
   ]
  },
  {
   "cell_type": "code",
   "execution_count": 84,
   "id": "f000f014",
   "metadata": {},
   "outputs": [
    {
     "name": "stdout",
     "output_type": "stream",
     "text": [
      "<class 'pandas.core.frame.DataFrame'>\n",
      "Index: 1120 entries, 0 to 1208\n",
      "Data columns (total 10 columns):\n",
      " #   Column                    Non-Null Count  Dtype  \n",
      "---  ------                    --------------  -----  \n",
      " 0   bmi                       1120 non-null   float64\n",
      " 1   high_blood_pressure       1120 non-null   int64  \n",
      " 2   gender                    1120 non-null   int64  \n",
      " 3   age                       1120 non-null   int64  \n",
      " 4   diabetes                  1120 non-null   int32  \n",
      " 5   hba1c_percentage          1120 non-null   float64\n",
      " 6   fpg_mmol_L                1120 non-null   float64\n",
      " 7   hdl_mmol_L                1120 non-null   float64\n",
      " 8   lifetime_100_cigs_smoked  1120 non-null   int64  \n",
      " 9   current_smoking_freq      1120 non-null   int32  \n",
      "dtypes: float64(4), int32(2), int64(4)\n",
      "memory usage: 87.5 KB\n"
     ]
    }
   ],
   "source": [
    "df.info()"
   ]
  },
  {
   "cell_type": "code",
   "execution_count": 85,
   "id": "b63f9a74",
   "metadata": {},
   "outputs": [],
   "source": [
    "# Save the pre-processed DataFrame to a new CSV file\n",
    "df.to_csv(\"../data/processed/nhanes_data_processed.csv\", index=False)"
   ]
  },
  {
   "cell_type": "markdown",
   "id": "213b4efa",
   "metadata": {},
   "source": [
    "### Categorical encoding"
   ]
  },
  {
   "cell_type": "code",
   "execution_count": 86,
   "id": "869b0c78",
   "metadata": {},
   "outputs": [],
   "source": [
    "# Map multiclass values to more readable strings to prepare for one-hot encoding\n",
    "df[\"diabetes\"] = df[\"diabetes\"].map({1: \"yes\", 2: \"no\", 3: \"borderline\"})\n",
    "df[\"current_smoking_freq\"] = df[\"current_smoking_freq\"].map({1: \"every_day\", 2: \"some_days\", 3: \"none\"})"
   ]
  },
  {
   "cell_type": "code",
   "execution_count": 87,
   "id": "c4a1aa26",
   "metadata": {},
   "outputs": [],
   "source": [
    "# One-hot encode the multiclass columns \"diabetes\" and \"current_smoking_frequency\"\n",
    "from sklearn.preprocessing import OneHotEncoder\n",
    "\n",
    "encoder = OneHotEncoder(sparse_output=False, dtype=int)\n",
    "one_hot_encoded = encoder.fit_transform(df[[\"diabetes\", \"current_smoking_freq\"]])\n",
    "\n",
    "encoded_df = pd.DataFrame(one_hot_encoded, columns=encoder.get_feature_names_out([\"diabetes\", \"current_smoking_freq\"]))\n",
    "\n",
    "# Concatenate the original DataFrame with the one-hot encoded DataFrame\n",
    "df = pd.concat([df, encoded_df], axis=1)\n",
    "\n",
    "# Drop the original multiclass columns after encoding\n",
    "df = df.drop(columns=[\"diabetes\", \"current_smoking_freq\"], axis=1)"
   ]
  },
  {
   "cell_type": "code",
   "execution_count": 88,
   "id": "47467606",
   "metadata": {},
   "outputs": [
    {
     "data": {
      "text/html": [
       "<div>\n",
       "<style scoped>\n",
       "    .dataframe tbody tr th:only-of-type {\n",
       "        vertical-align: middle;\n",
       "    }\n",
       "\n",
       "    .dataframe tbody tr th {\n",
       "        vertical-align: top;\n",
       "    }\n",
       "\n",
       "    .dataframe thead th {\n",
       "        text-align: right;\n",
       "    }\n",
       "</style>\n",
       "<table border=\"1\" class=\"dataframe\">\n",
       "  <thead>\n",
       "    <tr style=\"text-align: right;\">\n",
       "      <th></th>\n",
       "      <th>bmi</th>\n",
       "      <th>high_blood_pressure</th>\n",
       "      <th>gender</th>\n",
       "      <th>age</th>\n",
       "      <th>hba1c_percentage</th>\n",
       "      <th>fpg_mmol_L</th>\n",
       "      <th>hdl_mmol_L</th>\n",
       "      <th>lifetime_100_cigs_smoked</th>\n",
       "      <th>diabetes_borderline</th>\n",
       "      <th>diabetes_no</th>\n",
       "      <th>diabetes_yes</th>\n",
       "      <th>current_smoking_freq_every_day</th>\n",
       "      <th>current_smoking_freq_none</th>\n",
       "      <th>current_smoking_freq_some_days</th>\n",
       "    </tr>\n",
       "  </thead>\n",
       "  <tbody>\n",
       "    <tr>\n",
       "      <th>286</th>\n",
       "      <td>40.9</td>\n",
       "      <td>1.0</td>\n",
       "      <td>1.0</td>\n",
       "      <td>55.0</td>\n",
       "      <td>5.8</td>\n",
       "      <td>5.16</td>\n",
       "      <td>1.16</td>\n",
       "      <td>1.0</td>\n",
       "      <td>0.0</td>\n",
       "      <td>1.0</td>\n",
       "      <td>0.0</td>\n",
       "      <td>0.0</td>\n",
       "      <td>1.0</td>\n",
       "      <td>0.0</td>\n",
       "    </tr>\n",
       "    <tr>\n",
       "      <th>389</th>\n",
       "      <td>38.6</td>\n",
       "      <td>0.0</td>\n",
       "      <td>0.0</td>\n",
       "      <td>55.0</td>\n",
       "      <td>5.4</td>\n",
       "      <td>5.33</td>\n",
       "      <td>0.96</td>\n",
       "      <td>1.0</td>\n",
       "      <td>0.0</td>\n",
       "      <td>1.0</td>\n",
       "      <td>0.0</td>\n",
       "      <td>0.0</td>\n",
       "      <td>1.0</td>\n",
       "      <td>0.0</td>\n",
       "    </tr>\n",
       "    <tr>\n",
       "      <th>986</th>\n",
       "      <td>21.3</td>\n",
       "      <td>1.0</td>\n",
       "      <td>1.0</td>\n",
       "      <td>68.0</td>\n",
       "      <td>6.2</td>\n",
       "      <td>7.05</td>\n",
       "      <td>1.42</td>\n",
       "      <td>1.0</td>\n",
       "      <td>0.0</td>\n",
       "      <td>1.0</td>\n",
       "      <td>0.0</td>\n",
       "      <td>0.0</td>\n",
       "      <td>1.0</td>\n",
       "      <td>0.0</td>\n",
       "    </tr>\n",
       "    <tr>\n",
       "      <th>520</th>\n",
       "      <td>25.8</td>\n",
       "      <td>0.0</td>\n",
       "      <td>0.0</td>\n",
       "      <td>64.0</td>\n",
       "      <td>5.6</td>\n",
       "      <td>5.94</td>\n",
       "      <td>1.55</td>\n",
       "      <td>1.0</td>\n",
       "      <td>0.0</td>\n",
       "      <td>1.0</td>\n",
       "      <td>0.0</td>\n",
       "      <td>0.0</td>\n",
       "      <td>1.0</td>\n",
       "      <td>0.0</td>\n",
       "    </tr>\n",
       "    <tr>\n",
       "      <th>396</th>\n",
       "      <td>28.8</td>\n",
       "      <td>1.0</td>\n",
       "      <td>0.0</td>\n",
       "      <td>59.0</td>\n",
       "      <td>5.8</td>\n",
       "      <td>5.72</td>\n",
       "      <td>2.17</td>\n",
       "      <td>1.0</td>\n",
       "      <td>0.0</td>\n",
       "      <td>1.0</td>\n",
       "      <td>0.0</td>\n",
       "      <td>0.0</td>\n",
       "      <td>1.0</td>\n",
       "      <td>0.0</td>\n",
       "    </tr>\n",
       "  </tbody>\n",
       "</table>\n",
       "</div>"
      ],
      "text/plain": [
       "      bmi  high_blood_pressure  gender   age  hba1c_percentage  fpg_mmol_L  \\\n",
       "286  40.9                  1.0     1.0  55.0               5.8        5.16   \n",
       "389  38.6                  0.0     0.0  55.0               5.4        5.33   \n",
       "986  21.3                  1.0     1.0  68.0               6.2        7.05   \n",
       "520  25.8                  0.0     0.0  64.0               5.6        5.94   \n",
       "396  28.8                  1.0     0.0  59.0               5.8        5.72   \n",
       "\n",
       "     hdl_mmol_L  lifetime_100_cigs_smoked  diabetes_borderline  diabetes_no  \\\n",
       "286        1.16                       1.0                  0.0          1.0   \n",
       "389        0.96                       1.0                  0.0          1.0   \n",
       "986        1.42                       1.0                  0.0          1.0   \n",
       "520        1.55                       1.0                  0.0          1.0   \n",
       "396        2.17                       1.0                  0.0          1.0   \n",
       "\n",
       "     diabetes_yes  current_smoking_freq_every_day  current_smoking_freq_none  \\\n",
       "286           0.0                             0.0                        1.0   \n",
       "389           0.0                             0.0                        1.0   \n",
       "986           0.0                             0.0                        1.0   \n",
       "520           0.0                             0.0                        1.0   \n",
       "396           0.0                             0.0                        1.0   \n",
       "\n",
       "     current_smoking_freq_some_days  \n",
       "286                             0.0  \n",
       "389                             0.0  \n",
       "986                             0.0  \n",
       "520                             0.0  \n",
       "396                             0.0  "
      ]
     },
     "execution_count": 88,
     "metadata": {},
     "output_type": "execute_result"
    }
   ],
   "source": [
    "# Resultant DataFrame after one-hot encoding\n",
    "df.sample(5)"
   ]
  },
  {
   "cell_type": "code",
   "execution_count": 89,
   "id": "4b1a5df9",
   "metadata": {},
   "outputs": [],
   "source": [
    "# Save the one-hot encoded pre-processed DataFrame to a new CSV file\n",
    "df.to_csv(\"../data/processed/nhanes_data_processed_one_hot.csv\", index=False)"
   ]
  }
 ],
 "metadata": {
  "kernelspec": {
   "display_name": "base",
   "language": "python",
   "name": "python3"
  },
  "language_info": {
   "codemirror_mode": {
    "name": "ipython",
    "version": 3
   },
   "file_extension": ".py",
   "mimetype": "text/x-python",
   "name": "python",
   "nbconvert_exporter": "python",
   "pygments_lexer": "ipython3",
   "version": "3.12.4"
  }
 },
 "nbformat": 4,
 "nbformat_minor": 5
}
