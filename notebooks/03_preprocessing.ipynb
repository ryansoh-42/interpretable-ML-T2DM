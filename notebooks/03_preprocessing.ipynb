{
 "cells": [
  {
   "cell_type": "markdown",
   "id": "2228065b",
   "metadata": {},
   "source": [
    "## Data pre-processing"
   ]
  },
  {
   "cell_type": "code",
   "execution_count": 206,
   "id": "9a4fa4f4",
   "metadata": {},
   "outputs": [],
   "source": [
    "# Import necessary libraries\n",
    "import pandas as pd\n",
    "import numpy as np"
   ]
  },
  {
   "cell_type": "code",
   "execution_count": 207,
   "id": "38dde2db",
   "metadata": {},
   "outputs": [],
   "source": [
    "df = pd.read_csv(\"../data/interim/nhanes_data_interim.csv\")"
   ]
  },
  {
   "cell_type": "markdown",
   "id": "f350c192",
   "metadata": {},
   "source": [
    "### Convert categorical variables represented by float to int"
   ]
  },
  {
   "cell_type": "code",
   "execution_count": 208,
   "id": "e65ebf8a",
   "metadata": {},
   "outputs": [],
   "source": [
    "df[\"diabetes\"] = df[\"diabetes\"].astype(int)\n",
    "df[\"current_smoking_freq\"] = df[\"current_smoking_freq\"].astype(int)"
   ]
  },
  {
   "cell_type": "markdown",
   "id": "68faa284",
   "metadata": {},
   "source": [
    "### Transform highly-skewed features"
   ]
  },
  {
   "cell_type": "code",
   "execution_count": 209,
   "id": "1f0724fa",
   "metadata": {},
   "outputs": [],
   "source": [
    "# Log transformation on right-skewed features\n",
    "cols_to_transform = [\"hba1c_percentage\", \"fpg_mmol_L\", \"hdl_mmol_L\"]\n",
    "\n",
    "for col in cols_to_transform:\n",
    "    df[col + \"_log\"] = np.log(df[col])\n",
    "\n",
    "# Drop original columns\n",
    "df = df.drop(cols_to_transform, axis=1)"
   ]
  },
  {
   "cell_type": "markdown",
   "id": "66cd8f7c",
   "metadata": {},
   "source": [
    "### Identify outliers"
   ]
  },
  {
   "cell_type": "code",
   "execution_count": 210,
   "id": "ca897c59",
   "metadata": {},
   "outputs": [],
   "source": [
    "def three_sd_range(series):\n",
    "    mean = series.mean()\n",
    "    sd = series.std()\n",
    "    lower_bound = mean - 3 * sd\n",
    "    upper_bound = mean + 3 * sd\n",
    "    \n",
    "    return (lower_bound, upper_bound)"
   ]
  },
  {
   "cell_type": "code",
   "execution_count": 211,
   "id": "cb6c3979",
   "metadata": {},
   "outputs": [
    {
     "name": "stdout",
     "output_type": "stream",
     "text": [
      "bmi has at least one outlier: True\n",
      "11 row has been removed\n",
      "\n",
      "age has at least one outlier: False\n",
      "\n",
      "hba1c_percentage_log has at least one outlier: True\n",
      "31 row has been removed\n",
      "\n",
      "fpg_mmol_L_log has at least one outlier: True\n",
      "27 row has been removed\n",
      "\n",
      "hdl_mmol_L_log has at least one outlier: True\n",
      "6 row has been removed\n",
      "\n"
     ]
    }
   ],
   "source": [
    "for col_name in [\"bmi\", \"age\", \"hba1c_percentage_log\", \"fpg_mmol_L_log\", \"hdl_mmol_L_log\"]:\n",
    "    lower_bound, upper_bound = three_sd_range(df[col_name])\n",
    "    outlier_present = (df[col_name].min() < lower_bound or df[col_name].max() > upper_bound)\n",
    "    print(f\"{col_name} has at least one outlier: {outlier_present}\")\n",
    "    \n",
    "    if outlier_present:\n",
    "        curr_length = df[col_name].count()\n",
    "        df = df[(df[col_name] >= lower_bound) & (df[col_name] <= upper_bound)]\n",
    "        new_length = df[col_name].count()\n",
    "        print(f\"{curr_length - new_length} row has been removed\")\n",
    "    \n",
    "    print()"
   ]
  },
  {
   "cell_type": "markdown",
   "id": "cbc27599",
   "metadata": {},
   "source": [
    "### Removing features that provide no predictive information"
   ]
  },
  {
   "cell_type": "code",
   "execution_count": 212,
   "id": "d35afbc9",
   "metadata": {},
   "outputs": [
    {
     "name": "stdout",
     "output_type": "stream",
     "text": [
      "1 column(s) has been removed\n"
     ]
    }
   ],
   "source": [
    "col_one_uniq = []\n",
    "for col in df.columns:\n",
    "    if df[col].nunique() <= 1:\n",
    "        col_one_uniq.append(col)\n",
    "        \n",
    "df = df.drop(col_one_uniq, axis=1)\n",
    "print(f\"{len(col_one_uniq)} column(s) has been removed\")"
   ]
  },
  {
   "cell_type": "markdown",
   "id": "1f19aa31",
   "metadata": {},
   "source": [
    "## Feature Engineering"
   ]
  },
  {
   "cell_type": "code",
   "execution_count": 213,
   "id": "bba78858",
   "metadata": {},
   "outputs": [],
   "source": [
    "df[\"bmi_age_interaction\"] = df[\"bmi\"] * df[\"age\"] / 100\n",
    "df[\"glucose_hba1c_interaction\"] = df[\"fpg_mmol_L_log\"] * df[\"hba1c_percentage_log\"]\n",
    "df[\"bp_age_interaction\"] = df[\"high_blood_pressure\"] * df[\"age\"]"
   ]
  },
  {
   "cell_type": "code",
   "execution_count": 214,
   "id": "f000f014",
   "metadata": {},
   "outputs": [
    {
     "name": "stdout",
     "output_type": "stream",
     "text": [
      "<class 'pandas.core.frame.DataFrame'>\n",
      "Index: 1134 entries, 0 to 1208\n",
      "Data columns (total 12 columns):\n",
      " #   Column                     Non-Null Count  Dtype  \n",
      "---  ------                     --------------  -----  \n",
      " 0   bmi                        1134 non-null   float64\n",
      " 1   high_blood_pressure        1134 non-null   int64  \n",
      " 2   gender                     1134 non-null   int64  \n",
      " 3   age                        1134 non-null   int64  \n",
      " 4   diabetes                   1134 non-null   int32  \n",
      " 5   current_smoking_freq       1134 non-null   int32  \n",
      " 6   hba1c_percentage_log       1134 non-null   float64\n",
      " 7   fpg_mmol_L_log             1134 non-null   float64\n",
      " 8   hdl_mmol_L_log             1134 non-null   float64\n",
      " 9   bmi_age_interaction        1134 non-null   float64\n",
      " 10  glucose_hba1c_interaction  1134 non-null   float64\n",
      " 11  bp_age_interaction         1134 non-null   int64  \n",
      "dtypes: float64(6), int32(2), int64(4)\n",
      "memory usage: 106.3 KB\n"
     ]
    }
   ],
   "source": [
    "df.info()"
   ]
  },
  {
   "cell_type": "markdown",
   "id": "b3071959",
   "metadata": {},
   "source": [
    "## Label encoding"
   ]
  },
  {
   "cell_type": "code",
   "execution_count": 215,
   "id": "f7a159a6",
   "metadata": {},
   "outputs": [],
   "source": [
    "# Encode target variable\n",
    "from sklearn.preprocessing import LabelEncoder\n",
    "\n",
    "label_encoder = LabelEncoder()\n",
    "df[\"diabetes\"] = label_encoder.fit_transform(df[\"diabetes\"])"
   ]
  },
  {
   "cell_type": "code",
   "execution_count": 216,
   "id": "5b83c0d3",
   "metadata": {},
   "outputs": [
    {
     "data": {
      "text/html": [
       "<div>\n",
       "<style scoped>\n",
       "    .dataframe tbody tr th:only-of-type {\n",
       "        vertical-align: middle;\n",
       "    }\n",
       "\n",
       "    .dataframe tbody tr th {\n",
       "        vertical-align: top;\n",
       "    }\n",
       "\n",
       "    .dataframe thead th {\n",
       "        text-align: right;\n",
       "    }\n",
       "</style>\n",
       "<table border=\"1\" class=\"dataframe\">\n",
       "  <thead>\n",
       "    <tr style=\"text-align: right;\">\n",
       "      <th></th>\n",
       "      <th>bmi</th>\n",
       "      <th>high_blood_pressure</th>\n",
       "      <th>gender</th>\n",
       "      <th>age</th>\n",
       "      <th>diabetes</th>\n",
       "      <th>current_smoking_freq</th>\n",
       "      <th>hba1c_percentage_log</th>\n",
       "      <th>fpg_mmol_L_log</th>\n",
       "      <th>hdl_mmol_L_log</th>\n",
       "      <th>bmi_age_interaction</th>\n",
       "      <th>glucose_hba1c_interaction</th>\n",
       "      <th>bp_age_interaction</th>\n",
       "    </tr>\n",
       "  </thead>\n",
       "  <tbody>\n",
       "    <tr>\n",
       "      <th>99</th>\n",
       "      <td>32.0</td>\n",
       "      <td>1</td>\n",
       "      <td>1</td>\n",
       "      <td>77</td>\n",
       "      <td>0</td>\n",
       "      <td>3</td>\n",
       "      <td>2.066863</td>\n",
       "      <td>2.125848</td>\n",
       "      <td>0.131028</td>\n",
       "      <td>24.640</td>\n",
       "      <td>4.393836</td>\n",
       "      <td>77</td>\n",
       "    </tr>\n",
       "    <tr>\n",
       "      <th>944</th>\n",
       "      <td>28.5</td>\n",
       "      <td>0</td>\n",
       "      <td>0</td>\n",
       "      <td>43</td>\n",
       "      <td>1</td>\n",
       "      <td>3</td>\n",
       "      <td>1.648659</td>\n",
       "      <td>1.619388</td>\n",
       "      <td>0.086178</td>\n",
       "      <td>12.255</td>\n",
       "      <td>2.669818</td>\n",
       "      <td>0</td>\n",
       "    </tr>\n",
       "    <tr>\n",
       "      <th>561</th>\n",
       "      <td>27.5</td>\n",
       "      <td>1</td>\n",
       "      <td>1</td>\n",
       "      <td>63</td>\n",
       "      <td>1</td>\n",
       "      <td>2</td>\n",
       "      <td>1.667707</td>\n",
       "      <td>1.827770</td>\n",
       "      <td>0.548121</td>\n",
       "      <td>17.325</td>\n",
       "      <td>3.048184</td>\n",
       "      <td>63</td>\n",
       "    </tr>\n",
       "    <tr>\n",
       "      <th>858</th>\n",
       "      <td>36.1</td>\n",
       "      <td>0</td>\n",
       "      <td>0</td>\n",
       "      <td>42</td>\n",
       "      <td>1</td>\n",
       "      <td>3</td>\n",
       "      <td>1.757858</td>\n",
       "      <td>1.763017</td>\n",
       "      <td>0.239017</td>\n",
       "      <td>15.162</td>\n",
       "      <td>3.099133</td>\n",
       "      <td>0</td>\n",
       "    </tr>\n",
       "    <tr>\n",
       "      <th>653</th>\n",
       "      <td>34.0</td>\n",
       "      <td>1</td>\n",
       "      <td>0</td>\n",
       "      <td>60</td>\n",
       "      <td>1</td>\n",
       "      <td>1</td>\n",
       "      <td>1.791759</td>\n",
       "      <td>1.693779</td>\n",
       "      <td>0.438255</td>\n",
       "      <td>20.400</td>\n",
       "      <td>3.034845</td>\n",
       "      <td>60</td>\n",
       "    </tr>\n",
       "  </tbody>\n",
       "</table>\n",
       "</div>"
      ],
      "text/plain": [
       "      bmi  high_blood_pressure  gender  age  diabetes  current_smoking_freq  \\\n",
       "99   32.0                    1       1   77         0                     3   \n",
       "944  28.5                    0       0   43         1                     3   \n",
       "561  27.5                    1       1   63         1                     2   \n",
       "858  36.1                    0       0   42         1                     3   \n",
       "653  34.0                    1       0   60         1                     1   \n",
       "\n",
       "     hba1c_percentage_log  fpg_mmol_L_log  hdl_mmol_L_log  \\\n",
       "99               2.066863        2.125848        0.131028   \n",
       "944              1.648659        1.619388        0.086178   \n",
       "561              1.667707        1.827770        0.548121   \n",
       "858              1.757858        1.763017        0.239017   \n",
       "653              1.791759        1.693779        0.438255   \n",
       "\n",
       "     bmi_age_interaction  glucose_hba1c_interaction  bp_age_interaction  \n",
       "99                24.640                   4.393836                  77  \n",
       "944               12.255                   2.669818                   0  \n",
       "561               17.325                   3.048184                  63  \n",
       "858               15.162                   3.099133                   0  \n",
       "653               20.400                   3.034845                  60  "
      ]
     },
     "execution_count": 216,
     "metadata": {},
     "output_type": "execute_result"
    }
   ],
   "source": [
    "# Resultant DataFrame after label encoding\n",
    "df.sample(5)"
   ]
  },
  {
   "cell_type": "code",
   "execution_count": 217,
   "id": "29fdaf43",
   "metadata": {},
   "outputs": [
    {
     "data": {
      "text/plain": [
       "diabetes\n",
       "1    928\n",
       "0    155\n",
       "2     51\n",
       "Name: count, dtype: int64"
      ]
     },
     "execution_count": 217,
     "metadata": {},
     "output_type": "execute_result"
    }
   ],
   "source": [
    "df[\"diabetes\"].value_counts()"
   ]
  },
  {
   "cell_type": "code",
   "execution_count": 218,
   "id": "c4ce4c70",
   "metadata": {},
   "outputs": [],
   "source": [
    "# Save the pre-processed DataFrame to a new CSV file\n",
    "df.to_csv(\"../data/processed/nhanes_data_processed_label_encoded.csv\", index=False)"
   ]
  },
  {
   "cell_type": "markdown",
   "id": "cedd74e4",
   "metadata": {},
   "source": [
    "## Categorical encoding"
   ]
  },
  {
   "cell_type": "code",
   "execution_count": 219,
   "id": "869b0c78",
   "metadata": {},
   "outputs": [],
   "source": [
    "# Map multiclass values to more readable strings to prepare for one-hot encoding\n",
    "df[\"diabetes\"] = df[\"diabetes\"].map({0: \"yes\", 1: \"no\", 2: \"borderline\"})\n",
    "df[\"current_smoking_freq\"] = df[\"current_smoking_freq\"].map({1: \"every_day\", 2: \"some_days\", 3: \"none\"})"
   ]
  },
  {
   "cell_type": "code",
   "execution_count": 220,
   "id": "c4a1aa26",
   "metadata": {},
   "outputs": [],
   "source": [
    "# One-hot encode the multiclass columns \"diabetes\" and \"current_smoking_frequency\"\n",
    "from sklearn.preprocessing import OneHotEncoder\n",
    "\n",
    "encoder = OneHotEncoder(sparse_output=False, dtype=int)\n",
    "one_hot_encoded = encoder.fit_transform(df[[\"diabetes\", \"current_smoking_freq\"]])\n",
    "\n",
    "encoded_df = pd.DataFrame(one_hot_encoded, columns=encoder.get_feature_names_out([\"diabetes\", \"current_smoking_freq\"]))\n",
    "\n",
    "# Concatenate the original DataFrame with the one-hot encoded DataFrame\n",
    "df = pd.concat([df, encoded_df], axis=1)\n",
    "\n",
    "# Drop the original multiclass columns after encoding\n",
    "df = df.drop(columns=[\"diabetes\", \"current_smoking_freq\"], axis=1)"
   ]
  },
  {
   "cell_type": "code",
   "execution_count": 221,
   "id": "47467606",
   "metadata": {},
   "outputs": [
    {
     "data": {
      "text/html": [
       "<div>\n",
       "<style scoped>\n",
       "    .dataframe tbody tr th:only-of-type {\n",
       "        vertical-align: middle;\n",
       "    }\n",
       "\n",
       "    .dataframe tbody tr th {\n",
       "        vertical-align: top;\n",
       "    }\n",
       "\n",
       "    .dataframe thead th {\n",
       "        text-align: right;\n",
       "    }\n",
       "</style>\n",
       "<table border=\"1\" class=\"dataframe\">\n",
       "  <thead>\n",
       "    <tr style=\"text-align: right;\">\n",
       "      <th></th>\n",
       "      <th>bmi</th>\n",
       "      <th>high_blood_pressure</th>\n",
       "      <th>gender</th>\n",
       "      <th>age</th>\n",
       "      <th>hba1c_percentage_log</th>\n",
       "      <th>fpg_mmol_L_log</th>\n",
       "      <th>hdl_mmol_L_log</th>\n",
       "      <th>bmi_age_interaction</th>\n",
       "      <th>glucose_hba1c_interaction</th>\n",
       "      <th>bp_age_interaction</th>\n",
       "      <th>diabetes_borderline</th>\n",
       "      <th>diabetes_no</th>\n",
       "      <th>diabetes_yes</th>\n",
       "      <th>current_smoking_freq_every_day</th>\n",
       "      <th>current_smoking_freq_none</th>\n",
       "      <th>current_smoking_freq_some_days</th>\n",
       "    </tr>\n",
       "  </thead>\n",
       "  <tbody>\n",
       "    <tr>\n",
       "      <th>892</th>\n",
       "      <td>31.9</td>\n",
       "      <td>1.0</td>\n",
       "      <td>1.0</td>\n",
       "      <td>65.0</td>\n",
       "      <td>1.791759</td>\n",
       "      <td>1.870263</td>\n",
       "      <td>0.058269</td>\n",
       "      <td>20.735</td>\n",
       "      <td>3.351061</td>\n",
       "      <td>65.0</td>\n",
       "      <td>0.0</td>\n",
       "      <td>0.0</td>\n",
       "      <td>1.0</td>\n",
       "      <td>0.0</td>\n",
       "      <td>1.0</td>\n",
       "      <td>0.0</td>\n",
       "    </tr>\n",
       "    <tr>\n",
       "      <th>867</th>\n",
       "      <td>40.3</td>\n",
       "      <td>1.0</td>\n",
       "      <td>0.0</td>\n",
       "      <td>62.0</td>\n",
       "      <td>1.916923</td>\n",
       "      <td>1.809927</td>\n",
       "      <td>0.488580</td>\n",
       "      <td>24.986</td>\n",
       "      <td>3.469490</td>\n",
       "      <td>62.0</td>\n",
       "      <td>0.0</td>\n",
       "      <td>1.0</td>\n",
       "      <td>0.0</td>\n",
       "      <td>1.0</td>\n",
       "      <td>0.0</td>\n",
       "      <td>0.0</td>\n",
       "    </tr>\n",
       "    <tr>\n",
       "      <th>235</th>\n",
       "      <td>20.4</td>\n",
       "      <td>0.0</td>\n",
       "      <td>0.0</td>\n",
       "      <td>64.0</td>\n",
       "      <td>1.704748</td>\n",
       "      <td>1.809927</td>\n",
       "      <td>0.688135</td>\n",
       "      <td>13.056</td>\n",
       "      <td>3.085469</td>\n",
       "      <td>0.0</td>\n",
       "      <td>0.0</td>\n",
       "      <td>1.0</td>\n",
       "      <td>0.0</td>\n",
       "      <td>0.0</td>\n",
       "      <td>1.0</td>\n",
       "      <td>0.0</td>\n",
       "    </tr>\n",
       "    <tr>\n",
       "      <th>955</th>\n",
       "      <td>23.6</td>\n",
       "      <td>1.0</td>\n",
       "      <td>1.0</td>\n",
       "      <td>67.0</td>\n",
       "      <td>1.960095</td>\n",
       "      <td>1.976855</td>\n",
       "      <td>-0.127833</td>\n",
       "      <td>15.812</td>\n",
       "      <td>3.874823</td>\n",
       "      <td>67.0</td>\n",
       "      <td>0.0</td>\n",
       "      <td>1.0</td>\n",
       "      <td>0.0</td>\n",
       "      <td>0.0</td>\n",
       "      <td>0.0</td>\n",
       "      <td>1.0</td>\n",
       "    </tr>\n",
       "    <tr>\n",
       "      <th>886</th>\n",
       "      <td>27.6</td>\n",
       "      <td>1.0</td>\n",
       "      <td>1.0</td>\n",
       "      <td>65.0</td>\n",
       "      <td>1.757858</td>\n",
       "      <td>1.682688</td>\n",
       "      <td>1.007958</td>\n",
       "      <td>17.940</td>\n",
       "      <td>2.957927</td>\n",
       "      <td>65.0</td>\n",
       "      <td>0.0</td>\n",
       "      <td>0.0</td>\n",
       "      <td>1.0</td>\n",
       "      <td>0.0</td>\n",
       "      <td>1.0</td>\n",
       "      <td>0.0</td>\n",
       "    </tr>\n",
       "  </tbody>\n",
       "</table>\n",
       "</div>"
      ],
      "text/plain": [
       "      bmi  high_blood_pressure  gender   age  hba1c_percentage_log  \\\n",
       "892  31.9                  1.0     1.0  65.0              1.791759   \n",
       "867  40.3                  1.0     0.0  62.0              1.916923   \n",
       "235  20.4                  0.0     0.0  64.0              1.704748   \n",
       "955  23.6                  1.0     1.0  67.0              1.960095   \n",
       "886  27.6                  1.0     1.0  65.0              1.757858   \n",
       "\n",
       "     fpg_mmol_L_log  hdl_mmol_L_log  bmi_age_interaction  \\\n",
       "892        1.870263        0.058269               20.735   \n",
       "867        1.809927        0.488580               24.986   \n",
       "235        1.809927        0.688135               13.056   \n",
       "955        1.976855       -0.127833               15.812   \n",
       "886        1.682688        1.007958               17.940   \n",
       "\n",
       "     glucose_hba1c_interaction  bp_age_interaction  diabetes_borderline  \\\n",
       "892                   3.351061                65.0                  0.0   \n",
       "867                   3.469490                62.0                  0.0   \n",
       "235                   3.085469                 0.0                  0.0   \n",
       "955                   3.874823                67.0                  0.0   \n",
       "886                   2.957927                65.0                  0.0   \n",
       "\n",
       "     diabetes_no  diabetes_yes  current_smoking_freq_every_day  \\\n",
       "892          0.0           1.0                             0.0   \n",
       "867          1.0           0.0                             1.0   \n",
       "235          1.0           0.0                             0.0   \n",
       "955          1.0           0.0                             0.0   \n",
       "886          0.0           1.0                             0.0   \n",
       "\n",
       "     current_smoking_freq_none  current_smoking_freq_some_days  \n",
       "892                        1.0                             0.0  \n",
       "867                        0.0                             0.0  \n",
       "235                        1.0                             0.0  \n",
       "955                        0.0                             1.0  \n",
       "886                        1.0                             0.0  "
      ]
     },
     "execution_count": 221,
     "metadata": {},
     "output_type": "execute_result"
    }
   ],
   "source": [
    "# Resultant DataFrame after one-hot encoding\n",
    "df.sample(5)"
   ]
  },
  {
   "cell_type": "code",
   "execution_count": 222,
   "id": "4b1a5df9",
   "metadata": {},
   "outputs": [],
   "source": [
    "# Save the one-hot encoded pre-processed DataFrame to a new CSV file\n",
    "df.to_csv(\"../data/processed/nhanes_data_processed_one_hot_encoded.csv\", index=False)"
   ]
  }
 ],
 "metadata": {
  "kernelspec": {
   "display_name": "base",
   "language": "python",
   "name": "python3"
  },
  "language_info": {
   "codemirror_mode": {
    "name": "ipython",
    "version": 3
   },
   "file_extension": ".py",
   "mimetype": "text/x-python",
   "name": "python",
   "nbconvert_exporter": "python",
   "pygments_lexer": "ipython3",
   "version": "3.12.3"
  }
 },
 "nbformat": 4,
 "nbformat_minor": 5
}
