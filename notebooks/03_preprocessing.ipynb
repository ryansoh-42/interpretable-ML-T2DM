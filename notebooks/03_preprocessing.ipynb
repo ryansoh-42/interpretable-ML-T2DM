{
 "cells": [
  {
   "cell_type": "markdown",
   "id": "2228065b",
   "metadata": {},
   "source": [
    "## Data pre-processing"
   ]
  },
  {
   "cell_type": "code",
   "execution_count": 60,
   "id": "9a4fa4f4",
   "metadata": {},
   "outputs": [],
   "source": [
    "# Import necessary libraries\n",
    "import pandas as pd"
   ]
  },
  {
   "cell_type": "code",
   "execution_count": 61,
   "id": "38dde2db",
   "metadata": {},
   "outputs": [],
   "source": [
    "df = pd.read_csv(\"../data/interim/nhanes_data_interim.csv\")"
   ]
  },
  {
   "cell_type": "markdown",
   "id": "a145924e",
   "metadata": {},
   "source": [
    "### Categorical encoding"
   ]
  },
  {
   "cell_type": "code",
   "execution_count": 62,
   "id": "ed451752",
   "metadata": {},
   "outputs": [],
   "source": [
    "# Map multiclass values to more readable strings to prepare for one-hot encoding\n",
    "df[\"diabetes\"] = df[\"diabetes\"].map({1.0: \"yes\", 2.0: \"no\", 3.0: \"borderline\"})\n",
    "df[\"current_smoking_freq\"] = df[\"current_smoking_freq\"].map({1.0: \"every_day\", 2.0: \"some_days\", 3.0: \"none\"})"
   ]
  },
  {
   "cell_type": "code",
   "execution_count": 63,
   "id": "6d3305e7",
   "metadata": {},
   "outputs": [],
   "source": [
    "# One-hot encode the multiclass columns \"diabetes\" and \"current_smoking_frequency\"\n",
    "from sklearn.preprocessing import OneHotEncoder\n",
    "\n",
    "encoder = OneHotEncoder(sparse_output=False, dtype=int)\n",
    "one_hot_encoded = encoder.fit_transform(df[[\"diabetes\", \"current_smoking_freq\"]])\n",
    "\n",
    "encoded_df = pd.DataFrame(one_hot_encoded, columns=encoder.get_feature_names_out([\"diabetes\", \"current_smoking_freq\"]))\n",
    "\n",
    "# Concatenate the original DataFrame with the one-hot encoded DataFrame\n",
    "df = pd.concat([df, encoded_df], axis=1)\n",
    "\n",
    "# Drop the original multiclass columns after encoding\n",
    "df = df.drop(columns=[\"diabetes\", \"current_smoking_freq\"], axis=1)"
   ]
  },
  {
   "cell_type": "code",
   "execution_count": 64,
   "id": "42f1ad95",
   "metadata": {},
   "outputs": [
    {
     "data": {
      "text/html": [
       "<div>\n",
       "<style scoped>\n",
       "    .dataframe tbody tr th:only-of-type {\n",
       "        vertical-align: middle;\n",
       "    }\n",
       "\n",
       "    .dataframe tbody tr th {\n",
       "        vertical-align: top;\n",
       "    }\n",
       "\n",
       "    .dataframe thead th {\n",
       "        text-align: right;\n",
       "    }\n",
       "</style>\n",
       "<table border=\"1\" class=\"dataframe\">\n",
       "  <thead>\n",
       "    <tr style=\"text-align: right;\">\n",
       "      <th></th>\n",
       "      <th>bmi</th>\n",
       "      <th>high_blood_pressure</th>\n",
       "      <th>gender</th>\n",
       "      <th>age</th>\n",
       "      <th>hba1c_percentage</th>\n",
       "      <th>fpg_mmol_L</th>\n",
       "      <th>hdl_mmol_L</th>\n",
       "      <th>lifetime_100_cigs_smoked</th>\n",
       "      <th>diabetes_borderline</th>\n",
       "      <th>diabetes_no</th>\n",
       "      <th>diabetes_yes</th>\n",
       "      <th>current_smoking_freq_every_day</th>\n",
       "      <th>current_smoking_freq_none</th>\n",
       "      <th>current_smoking_freq_some_days</th>\n",
       "    </tr>\n",
       "  </thead>\n",
       "  <tbody>\n",
       "    <tr>\n",
       "      <th>0</th>\n",
       "      <td>27.0</td>\n",
       "      <td>1</td>\n",
       "      <td>1</td>\n",
       "      <td>43</td>\n",
       "      <td>5.6</td>\n",
       "      <td>6.27</td>\n",
       "      <td>1.16</td>\n",
       "      <td>1</td>\n",
       "      <td>0</td>\n",
       "      <td>1</td>\n",
       "      <td>0</td>\n",
       "      <td>0</td>\n",
       "      <td>1</td>\n",
       "      <td>0</td>\n",
       "    </tr>\n",
       "    <tr>\n",
       "      <th>1</th>\n",
       "      <td>33.5</td>\n",
       "      <td>1</td>\n",
       "      <td>1</td>\n",
       "      <td>66</td>\n",
       "      <td>5.6</td>\n",
       "      <td>5.50</td>\n",
       "      <td>1.55</td>\n",
       "      <td>1</td>\n",
       "      <td>0</td>\n",
       "      <td>1</td>\n",
       "      <td>0</td>\n",
       "      <td>0</td>\n",
       "      <td>1</td>\n",
       "      <td>0</td>\n",
       "    </tr>\n",
       "    <tr>\n",
       "      <th>2</th>\n",
       "      <td>30.2</td>\n",
       "      <td>0</td>\n",
       "      <td>1</td>\n",
       "      <td>34</td>\n",
       "      <td>5.1</td>\n",
       "      <td>5.55</td>\n",
       "      <td>1.19</td>\n",
       "      <td>1</td>\n",
       "      <td>0</td>\n",
       "      <td>1</td>\n",
       "      <td>0</td>\n",
       "      <td>0</td>\n",
       "      <td>1</td>\n",
       "      <td>0</td>\n",
       "    </tr>\n",
       "    <tr>\n",
       "      <th>3</th>\n",
       "      <td>27.3</td>\n",
       "      <td>0</td>\n",
       "      <td>0</td>\n",
       "      <td>56</td>\n",
       "      <td>5.0</td>\n",
       "      <td>5.77</td>\n",
       "      <td>1.76</td>\n",
       "      <td>1</td>\n",
       "      <td>0</td>\n",
       "      <td>1</td>\n",
       "      <td>0</td>\n",
       "      <td>0</td>\n",
       "      <td>1</td>\n",
       "      <td>0</td>\n",
       "    </tr>\n",
       "    <tr>\n",
       "      <th>4</th>\n",
       "      <td>21.4</td>\n",
       "      <td>1</td>\n",
       "      <td>1</td>\n",
       "      <td>80</td>\n",
       "      <td>4.6</td>\n",
       "      <td>4.94</td>\n",
       "      <td>2.12</td>\n",
       "      <td>1</td>\n",
       "      <td>0</td>\n",
       "      <td>1</td>\n",
       "      <td>0</td>\n",
       "      <td>0</td>\n",
       "      <td>1</td>\n",
       "      <td>0</td>\n",
       "    </tr>\n",
       "  </tbody>\n",
       "</table>\n",
       "</div>"
      ],
      "text/plain": [
       "    bmi  high_blood_pressure  gender  age  hba1c_percentage  fpg_mmol_L  \\\n",
       "0  27.0                    1       1   43               5.6        6.27   \n",
       "1  33.5                    1       1   66               5.6        5.50   \n",
       "2  30.2                    0       1   34               5.1        5.55   \n",
       "3  27.3                    0       0   56               5.0        5.77   \n",
       "4  21.4                    1       1   80               4.6        4.94   \n",
       "\n",
       "   hdl_mmol_L  lifetime_100_cigs_smoked  diabetes_borderline  diabetes_no  \\\n",
       "0        1.16                         1                    0            1   \n",
       "1        1.55                         1                    0            1   \n",
       "2        1.19                         1                    0            1   \n",
       "3        1.76                         1                    0            1   \n",
       "4        2.12                         1                    0            1   \n",
       "\n",
       "   diabetes_yes  current_smoking_freq_every_day  current_smoking_freq_none  \\\n",
       "0             0                               0                          1   \n",
       "1             0                               0                          1   \n",
       "2             0                               0                          1   \n",
       "3             0                               0                          1   \n",
       "4             0                               0                          1   \n",
       "\n",
       "   current_smoking_freq_some_days  \n",
       "0                               0  \n",
       "1                               0  \n",
       "2                               0  \n",
       "3                               0  \n",
       "4                               0  "
      ]
     },
     "execution_count": 64,
     "metadata": {},
     "output_type": "execute_result"
    }
   ],
   "source": [
    "# Resultant DataFrame after one-hot encoding\n",
    "df.head()"
   ]
  },
  {
   "cell_type": "markdown",
   "id": "66cd8f7c",
   "metadata": {},
   "source": [
    "### Identify outliers"
   ]
  },
  {
   "cell_type": "code",
   "execution_count": 65,
   "id": "ca897c59",
   "metadata": {},
   "outputs": [],
   "source": [
    "def three_sd_range(series):\n",
    "    mean = series.mean()\n",
    "    sd = series.std()\n",
    "    lower_bound = mean - 3 * sd\n",
    "    upper_bound = mean + 3 * sd\n",
    "    \n",
    "    return (lower_bound, upper_bound)"
   ]
  },
  {
   "cell_type": "code",
   "execution_count": 66,
   "id": "cb6c3979",
   "metadata": {},
   "outputs": [
    {
     "name": "stdout",
     "output_type": "stream",
     "text": [
      "bmi has at least one outlier: True\n",
      "11 row has been removed\n",
      "\n",
      "age has at least one outlier: False\n",
      "\n",
      "hba1c_percentage has at least one outlier: True\n",
      "32 row has been removed\n",
      "\n",
      "fpg_mmol_L has at least one outlier: True\n",
      "30 row has been removed\n",
      "\n",
      "hdl_mmol_L has at least one outlier: True\n",
      "16 row has been removed\n",
      "\n"
     ]
    }
   ],
   "source": [
    "for col_name in [\"bmi\", \"age\", \"hba1c_percentage\", \"fpg_mmol_L\", \"hdl_mmol_L\"]:\n",
    "    lower_bound, upper_bound = three_sd_range(df[col_name])\n",
    "    outlier_present = (df[col_name].min() < lower_bound or df[col_name].max() > upper_bound)\n",
    "    print(f\"{col_name} has at least one outlier: {outlier_present}\")\n",
    "    \n",
    "    if outlier_present:\n",
    "        curr_length = df[col_name].count()\n",
    "        df = df[(df[col_name] >= lower_bound) & (df[col_name] <= upper_bound)]\n",
    "        new_length = df[col_name].count()\n",
    "        print(f\"{curr_length - new_length} row has been removed\")\n",
    "    \n",
    "    print()"
   ]
  },
  {
   "cell_type": "code",
   "execution_count": 67,
   "id": "f000f014",
   "metadata": {},
   "outputs": [
    {
     "name": "stdout",
     "output_type": "stream",
     "text": [
      "<class 'pandas.core.frame.DataFrame'>\n",
      "Index: 1120 entries, 0 to 1208\n",
      "Data columns (total 14 columns):\n",
      " #   Column                          Non-Null Count  Dtype  \n",
      "---  ------                          --------------  -----  \n",
      " 0   bmi                             1120 non-null   float64\n",
      " 1   high_blood_pressure             1120 non-null   int64  \n",
      " 2   gender                          1120 non-null   int64  \n",
      " 3   age                             1120 non-null   int64  \n",
      " 4   hba1c_percentage                1120 non-null   float64\n",
      " 5   fpg_mmol_L                      1120 non-null   float64\n",
      " 6   hdl_mmol_L                      1120 non-null   float64\n",
      " 7   lifetime_100_cigs_smoked        1120 non-null   int64  \n",
      " 8   diabetes_borderline             1120 non-null   int32  \n",
      " 9   diabetes_no                     1120 non-null   int32  \n",
      " 10  diabetes_yes                    1120 non-null   int32  \n",
      " 11  current_smoking_freq_every_day  1120 non-null   int32  \n",
      " 12  current_smoking_freq_none       1120 non-null   int32  \n",
      " 13  current_smoking_freq_some_days  1120 non-null   int32  \n",
      "dtypes: float64(4), int32(6), int64(4)\n",
      "memory usage: 105.0 KB\n"
     ]
    }
   ],
   "source": [
    "df.info()"
   ]
  },
  {
   "cell_type": "code",
   "execution_count": 68,
   "id": "b63f9a74",
   "metadata": {},
   "outputs": [],
   "source": [
    "# Save the pre-processed DataFrame to a new CSV file\n",
    "df.to_csv(\"../data/processed/nhanes_data_processed.csv\", index=False)"
   ]
  }
 ],
 "metadata": {
  "kernelspec": {
   "display_name": "base",
   "language": "python",
   "name": "python3"
  },
  "language_info": {
   "codemirror_mode": {
    "name": "ipython",
    "version": 3
   },
   "file_extension": ".py",
   "mimetype": "text/x-python",
   "name": "python",
   "nbconvert_exporter": "python",
   "pygments_lexer": "ipython3",
   "version": "3.12.4"
  }
 },
 "nbformat": 4,
 "nbformat_minor": 5
}
