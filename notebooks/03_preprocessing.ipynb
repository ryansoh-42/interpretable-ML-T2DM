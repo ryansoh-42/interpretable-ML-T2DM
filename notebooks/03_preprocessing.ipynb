{
 "cells": [
  {
   "cell_type": "markdown",
   "id": "2228065b",
   "metadata": {},
   "source": [
    "## Data pre-processing\n",
    "\n",
    "- Prepare the DataFrame to be ready for model training\n",
    "- Convert categorical variables represented by float to int\n",
    "- Transform highly-skewed features identified in 02_eda.ipynb\n",
    "- Identify and remove outliers\n",
    "- Remove features with no predictive information (i.e. features with only one unique value)\n",
    "- Label encoding of the target variable"
   ]
  },
  {
   "cell_type": "code",
   "execution_count": 1,
   "id": "9a4fa4f4",
   "metadata": {},
   "outputs": [],
   "source": [
    "# Import necessary libraries\n",
    "import pandas as pd\n",
    "import numpy as np"
   ]
  },
  {
   "cell_type": "code",
   "execution_count": 2,
   "id": "38dde2db",
   "metadata": {},
   "outputs": [],
   "source": [
    "df = pd.read_csv(\"../data/interim/nhanes_data_interim.csv\")"
   ]
  },
  {
   "cell_type": "markdown",
   "id": "f350c192",
   "metadata": {},
   "source": [
    "### Convert categorical variables represented by float to int"
   ]
  },
  {
   "cell_type": "code",
   "execution_count": 3,
   "id": "e65ebf8a",
   "metadata": {},
   "outputs": [],
   "source": [
    "df[\"diabetes\"] = df[\"diabetes\"].astype(int)\n",
    "df[\"current_smoking_freq\"] = df[\"current_smoking_freq\"].astype(int)"
   ]
  },
  {
   "cell_type": "markdown",
   "id": "68faa284",
   "metadata": {},
   "source": [
    "### Transform highly-skewed features"
   ]
  },
  {
   "cell_type": "code",
   "execution_count": 4,
   "id": "1f0724fa",
   "metadata": {},
   "outputs": [],
   "source": [
    "# Log transformation on right-skewed features\n",
    "cols_to_transform = [\"hba1c_percentage\", \"fpg_mmol_L\", \"hdl_mmol_L\"]\n",
    "\n",
    "for col in cols_to_transform:\n",
    "    df[col + \"_log\"] = np.log(df[col])\n",
    "\n",
    "# Drop original columns\n",
    "df = df.drop(cols_to_transform, axis=1)"
   ]
  },
  {
   "cell_type": "markdown",
   "id": "66cd8f7c",
   "metadata": {},
   "source": [
    "### Identify outliers"
   ]
  },
  {
   "cell_type": "code",
   "execution_count": 5,
   "id": "ca897c59",
   "metadata": {},
   "outputs": [],
   "source": [
    "def three_sd_range(series):\n",
    "    mean = series.mean()\n",
    "    sd = series.std()\n",
    "    lower_bound = mean - 3 * sd\n",
    "    upper_bound = mean + 3 * sd\n",
    "    \n",
    "    return (lower_bound, upper_bound)"
   ]
  },
  {
   "cell_type": "code",
   "execution_count": 6,
   "id": "cb6c3979",
   "metadata": {},
   "outputs": [
    {
     "name": "stdout",
     "output_type": "stream",
     "text": [
      "bmi has at least one outlier: True\n",
      "11 row has been removed\n",
      "\n",
      "age has at least one outlier: False\n",
      "\n",
      "hba1c_percentage_log has at least one outlier: True\n",
      "31 row has been removed\n",
      "\n",
      "fpg_mmol_L_log has at least one outlier: True\n",
      "27 row has been removed\n",
      "\n",
      "hdl_mmol_L_log has at least one outlier: True\n",
      "6 row has been removed\n",
      "\n"
     ]
    }
   ],
   "source": [
    "for col_name in [\"bmi\", \"age\", \"hba1c_percentage_log\", \"fpg_mmol_L_log\", \"hdl_mmol_L_log\"]:\n",
    "    lower_bound, upper_bound = three_sd_range(df[col_name])\n",
    "    outlier_present = (df[col_name].min() < lower_bound or df[col_name].max() > upper_bound)\n",
    "    print(f\"{col_name} has at least one outlier: {outlier_present}\")\n",
    "    \n",
    "    if outlier_present:\n",
    "        curr_length = df[col_name].count()\n",
    "        df = df[(df[col_name] >= lower_bound) & (df[col_name] <= upper_bound)]\n",
    "        new_length = df[col_name].count()\n",
    "        print(f\"{curr_length - new_length} row has been removed\")\n",
    "    \n",
    "    print()"
   ]
  },
  {
   "cell_type": "markdown",
   "id": "cbc27599",
   "metadata": {},
   "source": [
    "### Removing features that provide no predictive information"
   ]
  },
  {
   "cell_type": "code",
   "execution_count": 7,
   "id": "d35afbc9",
   "metadata": {},
   "outputs": [
    {
     "name": "stdout",
     "output_type": "stream",
     "text": [
      "1 column(s) has been removed\n"
     ]
    }
   ],
   "source": [
    "col_one_uniq = []\n",
    "for col in df.columns:\n",
    "    if df[col].nunique() <= 1:\n",
    "        col_one_uniq.append(col)\n",
    "        \n",
    "df = df.drop(col_one_uniq, axis=1)\n",
    "print(f\"{len(col_one_uniq)} column(s) has been removed\")"
   ]
  },
  {
   "cell_type": "markdown",
   "id": "b3071959",
   "metadata": {},
   "source": [
    "### Label encoding"
   ]
  },
  {
   "cell_type": "code",
   "execution_count": 8,
   "id": "f7a159a6",
   "metadata": {},
   "outputs": [],
   "source": [
    "# Encode target variable\n",
    "from sklearn.preprocessing import LabelEncoder\n",
    "\n",
    "label_encoder = LabelEncoder()\n",
    "df[\"diabetes\"] = label_encoder.fit_transform(df[\"diabetes\"])"
   ]
  },
  {
   "cell_type": "code",
   "execution_count": 9,
   "id": "5b83c0d3",
   "metadata": {},
   "outputs": [
    {
     "data": {
      "text/html": [
       "<div>\n",
       "<style scoped>\n",
       "    .dataframe tbody tr th:only-of-type {\n",
       "        vertical-align: middle;\n",
       "    }\n",
       "\n",
       "    .dataframe tbody tr th {\n",
       "        vertical-align: top;\n",
       "    }\n",
       "\n",
       "    .dataframe thead th {\n",
       "        text-align: right;\n",
       "    }\n",
       "</style>\n",
       "<table border=\"1\" class=\"dataframe\">\n",
       "  <thead>\n",
       "    <tr style=\"text-align: right;\">\n",
       "      <th></th>\n",
       "      <th>bmi</th>\n",
       "      <th>high_blood_pressure</th>\n",
       "      <th>gender</th>\n",
       "      <th>age</th>\n",
       "      <th>diabetes</th>\n",
       "      <th>current_smoking_freq</th>\n",
       "      <th>hba1c_percentage_log</th>\n",
       "      <th>fpg_mmol_L_log</th>\n",
       "      <th>hdl_mmol_L_log</th>\n",
       "    </tr>\n",
       "  </thead>\n",
       "  <tbody>\n",
       "    <tr>\n",
       "      <th>110</th>\n",
       "      <td>29.3</td>\n",
       "      <td>0</td>\n",
       "      <td>1</td>\n",
       "      <td>67</td>\n",
       "      <td>1</td>\n",
       "      <td>1</td>\n",
       "      <td>1.774952</td>\n",
       "      <td>1.809927</td>\n",
       "      <td>0.215111</td>\n",
       "    </tr>\n",
       "    <tr>\n",
       "      <th>308</th>\n",
       "      <td>25.0</td>\n",
       "      <td>0</td>\n",
       "      <td>1</td>\n",
       "      <td>25</td>\n",
       "      <td>1</td>\n",
       "      <td>3</td>\n",
       "      <td>1.686399</td>\n",
       "      <td>1.640937</td>\n",
       "      <td>0.086178</td>\n",
       "    </tr>\n",
       "    <tr>\n",
       "      <th>545</th>\n",
       "      <td>33.9</td>\n",
       "      <td>1</td>\n",
       "      <td>0</td>\n",
       "      <td>73</td>\n",
       "      <td>2</td>\n",
       "      <td>1</td>\n",
       "      <td>1.740466</td>\n",
       "      <td>1.818077</td>\n",
       "      <td>0.215111</td>\n",
       "    </tr>\n",
       "    <tr>\n",
       "      <th>1180</th>\n",
       "      <td>34.0</td>\n",
       "      <td>1</td>\n",
       "      <td>0</td>\n",
       "      <td>71</td>\n",
       "      <td>1</td>\n",
       "      <td>3</td>\n",
       "      <td>1.774952</td>\n",
       "      <td>1.763017</td>\n",
       "      <td>0.173953</td>\n",
       "    </tr>\n",
       "    <tr>\n",
       "      <th>72</th>\n",
       "      <td>37.3</td>\n",
       "      <td>1</td>\n",
       "      <td>0</td>\n",
       "      <td>75</td>\n",
       "      <td>1</td>\n",
       "      <td>3</td>\n",
       "      <td>1.757858</td>\n",
       "      <td>2.021548</td>\n",
       "      <td>0.215111</td>\n",
       "    </tr>\n",
       "  </tbody>\n",
       "</table>\n",
       "</div>"
      ],
      "text/plain": [
       "       bmi  high_blood_pressure  gender  age  diabetes  current_smoking_freq  \\\n",
       "110   29.3                    0       1   67         1                     1   \n",
       "308   25.0                    0       1   25         1                     3   \n",
       "545   33.9                    1       0   73         2                     1   \n",
       "1180  34.0                    1       0   71         1                     3   \n",
       "72    37.3                    1       0   75         1                     3   \n",
       "\n",
       "      hba1c_percentage_log  fpg_mmol_L_log  hdl_mmol_L_log  \n",
       "110               1.774952        1.809927        0.215111  \n",
       "308               1.686399        1.640937        0.086178  \n",
       "545               1.740466        1.818077        0.215111  \n",
       "1180              1.774952        1.763017        0.173953  \n",
       "72                1.757858        2.021548        0.215111  "
      ]
     },
     "execution_count": 9,
     "metadata": {},
     "output_type": "execute_result"
    }
   ],
   "source": [
    "# Resultant DataFrame after label encoding\n",
    "df.sample(5)"
   ]
  },
  {
   "cell_type": "code",
   "execution_count": 10,
   "id": "29fdaf43",
   "metadata": {},
   "outputs": [
    {
     "data": {
      "text/plain": [
       "diabetes\n",
       "1    928\n",
       "0    155\n",
       "2     51\n",
       "Name: count, dtype: int64"
      ]
     },
     "execution_count": 10,
     "metadata": {},
     "output_type": "execute_result"
    }
   ],
   "source": [
    "df[\"diabetes\"].value_counts()"
   ]
  },
  {
   "cell_type": "code",
   "execution_count": 11,
   "id": "c4ce4c70",
   "metadata": {},
   "outputs": [],
   "source": [
    "# Save the pre-processed DataFrame to a new CSV file\n",
    "df.to_csv(\"../data/processed/nhanes_data_processed_label_encoded.csv\", index=False)"
   ]
  }
 ],
 "metadata": {
  "kernelspec": {
   "display_name": "base",
   "language": "python",
   "name": "python3"
  },
  "language_info": {
   "codemirror_mode": {
    "name": "ipython",
    "version": 3
   },
   "file_extension": ".py",
   "mimetype": "text/x-python",
   "name": "python",
   "nbconvert_exporter": "python",
   "pygments_lexer": "ipython3",
   "version": "3.12.3"
  }
 },
 "nbformat": 4,
 "nbformat_minor": 5
}
